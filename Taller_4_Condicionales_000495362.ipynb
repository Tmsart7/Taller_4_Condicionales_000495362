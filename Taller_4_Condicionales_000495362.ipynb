{
  "nbformat": 4,
  "nbformat_minor": 0,
  "metadata": {
    "colab": {
      "provenance": [],
      "authorship_tag": "ABX9TyP+xhQnfHyrGsjfxwFkjFy5",
      "include_colab_link": true
    },
    "kernelspec": {
      "name": "python3",
      "display_name": "Python 3"
    },
    "language_info": {
      "name": "python"
    }
  },
  "cells": [
    {
      "cell_type": "markdown",
      "metadata": {
        "id": "view-in-github",
        "colab_type": "text"
      },
      "source": [
        "<a href=\"https://colab.research.google.com/github/Tmsart7/Taller_4_Condicionales_000495362/blob/main/Taller_4_Condicionales_000495362.ipynb\" target=\"_parent\"><img src=\"https://colab.research.google.com/assets/colab-badge.svg\" alt=\"Open In Colab\"/></a>"
      ]
    },
    {
      "cell_type": "markdown",
      "source": [
        "# Taller 4 - Condicionales\n",
        "\n",
        "Nombre : Tomás Arteaga\n",
        "- ID : 000495362\n",
        "- Email : tomas.arteaga@upb.edu.co"
      ],
      "metadata": {
        "id": "mabSdl_S5-cJ"
      }
    },
    {
      "cell_type": "code",
      "execution_count": 13,
      "metadata": {
        "colab": {
          "base_uri": "https://localhost:8080/"
        },
        "id": "jw6Mylfl1KDF",
        "outputId": "ba4a9461-9114-410b-a77f-26310e118278"
      },
      "outputs": [
        {
          "output_type": "stream",
          "name": "stdout",
          "text": [
            "Ingrese su calificacion (de 0 a 5) : 2\n",
            "Usted reprobó el curso\n"
          ]
        }
      ],
      "source": [
        "# 1. Calculadora de calificaciones\n",
        "\n",
        "nota = float(input('Ingrese su calificacion (de 0 a 5) : '))\n",
        "\n",
        "if nota >= 3:\n",
        "  print('usted aprobó el curso')\n",
        "\n",
        "else : print('Usted reprobó el curso')"
      ]
    },
    {
      "cell_type": "code",
      "source": [
        "# 2. Verificar si un número es posito, negativo o cero\n",
        "\n",
        "num = float(input('Ingrese un numero = '))\n",
        "if num >= 0:\n",
        "  print('El numero es positivo')\n",
        "else : print('El numero es negativo')"
      ],
      "metadata": {
        "colab": {
          "base_uri": "https://localhost:8080/"
        },
        "id": "38VM9R-K2B8x",
        "outputId": "7eb77eb2-838e-4205-c589-f4ef832e3588"
      },
      "execution_count": 8,
      "outputs": [
        {
          "output_type": "stream",
          "name": "stdout",
          "text": [
            "ingrese un numero = 2\n",
            "el numero es positivo\n"
          ]
        }
      ]
    },
    {
      "cell_type": "code",
      "source": [
        "# 3. Validación de contraseña\n",
        "\n",
        "contraseña = input('ingrese su contraseña: ')\n",
        "if contraseña == 'hola123':\n",
        "  print('Contraseña valida')\n",
        "\n",
        "else : print('Contraseña incorrecta')"
      ],
      "metadata": {
        "colab": {
          "base_uri": "https://localhost:8080/"
        },
        "id": "ET2aQHT82B_7",
        "outputId": "576b779c-e212-4c90-9e13-6038ab9d095b"
      },
      "execution_count": 6,
      "outputs": [
        {
          "output_type": "stream",
          "name": "stdout",
          "text": [
            "ingrese su contraseña: hola123\n",
            "Contraseña valida\n"
          ]
        }
      ]
    },
    {
      "cell_type": "code",
      "source": [
        "# 4. Determinar si un número es par o impar\n",
        "\n",
        "num = float(input('ingresa un numero: '))\n",
        "if num % 2 == 0:\n",
        "  print('El numero es par')\n",
        "\n",
        "else : print('El numero es impar')"
      ],
      "metadata": {
        "colab": {
          "base_uri": "https://localhost:8080/"
        },
        "id": "u6PUg5ZE2CC1",
        "outputId": "e9465d2b-8875-41bb-d0e1-0f0be081fae6"
      },
      "execution_count": 12,
      "outputs": [
        {
          "output_type": "stream",
          "name": "stdout",
          "text": [
            "ingresa un numero: 2\n",
            "el numero es par\n"
          ]
        }
      ]
    },
    {
      "cell_type": "code",
      "source": [
        "2# 5. Determinar el número mayor\n",
        "\n",
        "a = float(input('Ingrese un numero: '))\n",
        "b = float(input('Ingrese un segundo numero: '))\n",
        "c = float(input('Ingrese un tercer numero: '))\n",
        "d = float(input('Ingrese un cuarto numero: '))\n",
        "e = float(input('Ingrese un quinto numero: '))\n",
        "\n",
        "num = a\n",
        "\n",
        "if b > num :\n",
        "    num = b\n",
        "\n",
        "if c > num :\n",
        "    num = c\n",
        "\n",
        "if d > num :\n",
        "    num = d\n",
        "\n",
        "if e > num :\n",
        "    num = e\n",
        "\n",
        "print('El número mayor es =' , num)"
      ],
      "metadata": {
        "colab": {
          "base_uri": "https://localhost:8080/"
        },
        "id": "jnNT0ouQ2CTs",
        "outputId": "8d0b6654-5da5-4587-ead9-d5181916d6de"
      },
      "execution_count": 9,
      "outputs": [
        {
          "output_type": "stream",
          "name": "stdout",
          "text": [
            "ingrese un numero: 1\n",
            "ingrese un segundo numero: 2\n",
            "ingrese un tercer numero: 3\n",
            "ingrese un cuarto numero: 4\n",
            "ingrese un quinto numero: 5\n",
            "El número mayor es = 5.0\n"
          ]
        }
      ]
    },
    {
      "cell_type": "code",
      "source": [
        "# 6. Categorizar edades\n",
        "\n",
        "edad = int(input('Ingrese su edad: '))\n",
        "\n",
        "if edad <= 12:\n",
        "    categoria = 'Niño'\n",
        "elif edad <= 19:\n",
        "    categoria = 'Adolescente'\n",
        "elif edad <= 64:\n",
        "    categoria = 'Adulto'\n",
        "else:\n",
        "    categoria = 'Adulto Mayor'\n",
        "\n",
        "print('Usted se encuentra en la categoría:', categoria)"
      ],
      "metadata": {
        "colab": {
          "base_uri": "https://localhost:8080/"
        },
        "id": "mmOezbne2CVk",
        "outputId": "7123db1b-0214-49e4-9eaa-b857c515950f"
      },
      "execution_count": 10,
      "outputs": [
        {
          "output_type": "stream",
          "name": "stdout",
          "text": [
            "Ingrese su edad: 18\n",
            "Usted se encuentra en la categoría: Adolescente\n"
          ]
        }
      ]
    }
  ]
}